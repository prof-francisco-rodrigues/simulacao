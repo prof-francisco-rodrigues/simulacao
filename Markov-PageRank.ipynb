{
 "cells": [
  {
   "cell_type": "markdown",
   "metadata": {},
   "source": [
    "# Processos Estocásticos: o algoritmo PageRank"
   ]
  },
  {
   "cell_type": "markdown",
   "metadata": {},
   "source": [
    "Francisco Aparecido Rodrigues, francisco@icmc.usp.br.<br>\n",
    "Universidade de São Paulo, São Carlos, Brasil.<br>\n",
    "https://sites.icmc.usp.br/francisco <br>\n",
    "Copyright: Creative Commons"
   ]
  },
  {
   "cell_type": "markdown",
   "metadata": {},
   "source": [
    "<hr>"
   ]
  },
  {
   "cell_type": "markdown",
   "metadata": {},
   "source": [
    "Nessa aula vamos aprender sobre o algoritmo PageRank proposto por Sergey Brin e Larry Page para ordenar páginas na web. Esse algoritmo é conhecido como o \"coração\" do Google, pois o processo de busca na web se baseia nesse algoritmo."
   ]
  },
  {
   "cell_type": "markdown",
   "metadata": {},
   "source": [
    "Inicialmente, vamos definir o grafo que represente as páginas da web."
   ]
  },
  {
   "cell_type": "code",
   "execution_count": 1,
   "metadata": {},
   "outputs": [
    {
     "ename": "ModuleNotFoundError",
     "evalue": "No module named 'networkx'",
     "output_type": "error",
     "traceback": [
      "\u001b[1;31m---------------------------------------------------------------------------\u001b[0m",
      "\u001b[1;31mModuleNotFoundError\u001b[0m                       Traceback (most recent call last)",
      "Cell \u001b[1;32mIn[1], line 1\u001b[0m\n\u001b[1;32m----> 1\u001b[0m \u001b[38;5;28;01mimport\u001b[39;00m \u001b[38;5;21;01mnetworkx\u001b[39;00m \u001b[38;5;28;01mas\u001b[39;00m \u001b[38;5;21;01mnx\u001b[39;00m\n\u001b[0;32m      2\u001b[0m \u001b[38;5;28;01mimport\u001b[39;00m \u001b[38;5;21;01mmatplotlib\u001b[39;00m\u001b[38;5;21;01m.\u001b[39;00m\u001b[38;5;21;01mpyplot\u001b[39;00m \u001b[38;5;28;01mas\u001b[39;00m \u001b[38;5;21;01mplt\u001b[39;00m\n\u001b[0;32m      3\u001b[0m \u001b[38;5;28;01mimport\u001b[39;00m \u001b[38;5;21;01mnumpy\u001b[39;00m \u001b[38;5;28;01mas\u001b[39;00m \u001b[38;5;21;01mnp\u001b[39;00m\n",
      "\u001b[1;31mModuleNotFoundError\u001b[0m: No module named 'networkx'"
     ]
    }
   ],
   "source": [
    "import networkx as nx\n",
    "import matplotlib.pyplot as plt\n",
    "import numpy as np\n",
    "\n",
    "g = nx.DiGraph()\n",
    "g.add_nodes_from([1,2,3,4,5,6])\n",
    "g.add_edge(1,2)\n",
    "g.add_edge(1,3)\n",
    "g.add_edge(3,1)\n",
    "g.add_edge(3,2)\n",
    "g.add_edge(3,5)\n",
    "g.add_edge(5,4)\n",
    "g.add_edge(5,6)\n",
    "g.add_edge(4,5)\n",
    "g.add_edge(4,6)\n",
    "g.add_edge(6,4)\n",
    "\n",
    "options = {\n",
    "    'node_color': 'blue',\n",
    "    'node_size': 1000,\n",
    "    'width': 1,\n",
    "    'arrowstyle': '-|>',\n",
    "    'arrowsize': 20,\n",
    "}\n",
    "\n",
    "npos=nx.circular_layout(g,scale=1)\n",
    "\n",
    "nx.draw(g,pos = npos, with_labels=True, **options, arrows=True)\n",
    "plt.show()"
   ]
  },
  {
   "cell_type": "code",
   "execution_count": 12,
   "metadata": {},
   "outputs": [
    {
     "name": "stdout",
     "output_type": "stream",
     "text": [
      "[[0. 1. 1. 0. 0. 0.]\n",
      " [0. 0. 0. 0. 0. 0.]\n",
      " [1. 1. 0. 0. 1. 0.]\n",
      " [0. 0. 0. 0. 1. 1.]\n",
      " [0. 0. 0. 1. 0. 1.]\n",
      " [0. 0. 0. 1. 0. 0.]]\n"
     ]
    }
   ],
   "source": [
    "A = nx.to_numpy_matrix(g)\n",
    "print(A)"
   ]
  },
  {
   "cell_type": "markdown",
   "metadata": {},
   "source": [
    "Vamos transformar a matriz em uma matriz de probabilidade de transição."
   ]
  },
  {
   "cell_type": "code",
   "execution_count": 8,
   "metadata": {},
   "outputs": [
    {
     "name": "stdout",
     "output_type": "stream",
     "text": [
      "[[0.         0.5        0.5        0.         0.         0.        ]\n",
      " [0.16666667 0.16666667 0.16666667 0.16666667 0.16666667 0.16666667]\n",
      " [0.33333333 0.33333333 0.         0.         0.33333333 0.        ]\n",
      " [0.         0.         0.         0.         0.5        0.5       ]\n",
      " [0.         0.         0.         0.5        0.         0.5       ]\n",
      " [0.         0.         0.         1.         0.         0.        ]]\n"
     ]
    }
   ],
   "source": [
    "N = A.shape[0]\n",
    "P = np.zeros((N,N))\n",
    "for i in range(0,N):\n",
    "    for j in range(0,N):\n",
    "        if(np.sum(A[i,:]) > 0):\n",
    "            P[i,j] = A[i,j]/np.sum(A[i,:])\n",
    "        else:\n",
    "            P[i,j] = 1/N\n",
    "print(P)"
   ]
  },
  {
   "cell_type": "markdown",
   "metadata": {},
   "source": [
    "A seguir, obtemos a matriz Google:"
   ]
  },
  {
   "cell_type": "code",
   "execution_count": 13,
   "metadata": {},
   "outputs": [
    {
     "name": "stdout",
     "output_type": "stream",
     "text": [
      "[[0.025      0.45       0.45       0.025      0.025      0.025     ]\n",
      " [0.16666667 0.16666667 0.16666667 0.16666667 0.16666667 0.16666667]\n",
      " [0.30833333 0.30833333 0.025      0.025      0.30833333 0.025     ]\n",
      " [0.025      0.025      0.025      0.025      0.45       0.45      ]\n",
      " [0.025      0.025      0.025      0.45       0.025      0.45      ]\n",
      " [0.025      0.025      0.025      0.875      0.025      0.025     ]]\n"
     ]
    }
   ],
   "source": [
    "G = np.zeros((N,N))\n",
    "alpha = 0.85\n",
    "for i in range(0,N):\n",
    "    for j in range(0,N):\n",
    "        G[i,j] = alpha*P[i,j] + (1-alpha)/N\n",
    "print(G)"
   ]
  },
  {
   "cell_type": "markdown",
   "metadata": {},
   "source": [
    "A distribuição estacinária é igual ao PageRank:"
   ]
  },
  {
   "cell_type": "code",
   "execution_count": 10,
   "metadata": {},
   "outputs": [
    {
     "name": "stdout",
     "output_type": "stream",
     "text": [
      "1 : 0.03721196507800219\n",
      "2 : 0.05395734936310332\n",
      "3 : 0.041505653356233116\n",
      "4 : 0.375080815109834\n",
      "5 : 0.20599833187742747\n",
      "6 : 0.2862458852154\n"
     ]
    }
   ],
   "source": [
    "eigvals, eigvecs = np.linalg.eig(G.T)\n",
    "eigvec1 = eigvecs[:,np.isclose(eigvals, 1)]\n",
    "eigvec1 = eigvec1[:,0]\n",
    "\n",
    "stationary = eigvec1 / eigvec1.sum()\n",
    "\n",
    "stationary = stationary.real\n",
    "for i in range(0,N):\n",
    "    print(i+1, ':', stationary[i])"
   ]
  },
  {
   "cell_type": "markdown",
   "metadata": {},
   "source": [
    "Podemos visualizar o grafo onde o tamanho dos vértices é proporcional ao PageRank."
   ]
  },
  {
   "cell_type": "code",
   "execution_count": 52,
   "metadata": {},
   "outputs": [
    {
     "data": {
      "image/png": "[encoded data removed]",
      "text/plain": [
       "<Figure size 432x288 with 1 Axes>"
      ]
     },
     "metadata": {},
     "output_type": "display_data"
    }
   ],
   "source": [
    "npos=nx.circular_layout(g,scale=1)\n",
    "\n",
    "s = stationary*10000\n",
    "nx.draw(g,pos = npos, with_labels=True, node_size = s, arrows=True)\n",
    "plt.draw()\n",
    "plt.show()"
   ]
  },
  {
   "cell_type": "markdown",
   "metadata": {},
   "source": [
    "Vamos considerar outro exemplo, onde verificaremos que ser o mais conectado não é o mais importante."
   ]
  },
  {
   "cell_type": "code",
   "execution_count": 24,
   "metadata": {},
   "outputs": [
    {
     "data": {
      "image/png": "[encoded data removed]",
      "text/plain": [
       "<Figure size 432x288 with 1 Axes>"
      ]
     },
     "metadata": {},
     "output_type": "display_data"
    }
   ],
   "source": [
    "import networkx as nx\n",
    "import matplotlib.pyplot as plt\n",
    "import numpy as np\n",
    "\n",
    "N = 10\n",
    "g = nx.DiGraph()\n",
    "g.add_nodes_from(np.arange(1,N+1))\n",
    "g.add_edge(1,2)\n",
    "g.add_edge(3,2)\n",
    "g.add_edge(4,2)\n",
    "g.add_edge(5,2)\n",
    "g.add_edge(2,10)\n",
    "g.add_edge(10,9)\n",
    "g.add_edge(9,8)\n",
    "g.add_edge(8,7)\n",
    "g.add_edge(7,6)\n",
    "g.add_edge(6,9)\n",
    "g.add_edge(9,7)\n",
    "g.add_edge(9,6)\n",
    "g.add_edge(8,6)\n",
    "\n",
    "options = {\n",
    "    'node_color': 'blue',\n",
    "    'node_size': 1000,\n",
    "    'width': 1,\n",
    "    'arrowstyle': '-|>',\n",
    "    'arrowsize': 20,\n",
    "}\n",
    "\n",
    "\n",
    "npos=nx.circular_layout(g,scale=1)\n",
    "#npos = nx.spring_layout(g)\n",
    "nx.draw(g,pos = npos, with_labels=True, **options, arrows=True)\n",
    "plt.draw()"
   ]
  },
  {
   "cell_type": "markdown",
   "metadata": {},
   "source": [
    "Inicialmente, obtemos a matriz de probabilidade de transição, realizando o ajuste estocástico. "
   ]
  },
  {
   "cell_type": "code",
   "execution_count": 25,
   "metadata": {},
   "outputs": [
    {
     "name": "stdout",
     "output_type": "stream",
     "text": [
      "[[0.         1.         0.         0.         0.         0.\n",
      "  0.         0.         0.         0.        ]\n",
      " [0.         0.         0.         0.         0.         0.\n",
      "  0.         0.         0.         1.        ]\n",
      " [0.         1.         0.         0.         0.         0.\n",
      "  0.         0.         0.         0.        ]\n",
      " [0.         1.         0.         0.         0.         0.\n",
      "  0.         0.         0.         0.        ]\n",
      " [0.         1.         0.         0.         0.         0.\n",
      "  0.         0.         0.         0.        ]\n",
      " [0.         0.         0.         0.         0.         0.\n",
      "  0.         0.         1.         0.        ]\n",
      " [0.         0.         0.         0.         0.         1.\n",
      "  0.         0.         0.         0.        ]\n",
      " [0.         0.         0.         0.         0.         0.5\n",
      "  0.5        0.         0.         0.        ]\n",
      " [0.         0.         0.         0.         0.         0.33333333\n",
      "  0.33333333 0.33333333 0.         0.        ]\n",
      " [0.         0.         0.         0.         0.         0.\n",
      "  0.         0.         1.         0.        ]]\n"
     ]
    }
   ],
   "source": [
    "A = nx.to_numpy_matrix(g)\n",
    "\n",
    "N = A.shape[0]\n",
    "P = np.zeros((N,N))\n",
    "for i in range(0,N):\n",
    "    for j in range(0,N):\n",
    "        if(np.sum(A[i,:]) > 0):\n",
    "            P[i,j] = A[i,j]/np.sum(A[i,:])\n",
    "        else:\n",
    "            P[i,j] = 1/N\n",
    "print(P)"
   ]
  },
  {
   "cell_type": "markdown",
   "metadata": {},
   "source": [
    "A seguir, fazemos o ajuste ergótico e obtemos a matriz Google."
   ]
  },
  {
   "cell_type": "code",
   "execution_count": 26,
   "metadata": {},
   "outputs": [
    {
     "name": "stdout",
     "output_type": "stream",
     "text": [
      "[[0.015      0.865      0.015      0.015      0.015      0.015\n",
      "  0.015      0.015      0.015      0.015     ]\n",
      " [0.015      0.015      0.015      0.015      0.015      0.015\n",
      "  0.015      0.015      0.015      0.865     ]\n",
      " [0.015      0.865      0.015      0.015      0.015      0.015\n",
      "  0.015      0.015      0.015      0.015     ]\n",
      " [0.015      0.865      0.015      0.015      0.015      0.015\n",
      "  0.015      0.015      0.015      0.015     ]\n",
      " [0.015      0.865      0.015      0.015      0.015      0.015\n",
      "  0.015      0.015      0.015      0.015     ]\n",
      " [0.015      0.015      0.015      0.015      0.015      0.015\n",
      "  0.015      0.015      0.865      0.015     ]\n",
      " [0.015      0.015      0.015      0.015      0.015      0.865\n",
      "  0.015      0.015      0.015      0.015     ]\n",
      " [0.015      0.015      0.015      0.015      0.015      0.44\n",
      "  0.44       0.015      0.015      0.015     ]\n",
      " [0.015      0.015      0.015      0.015      0.015      0.29833333\n",
      "  0.29833333 0.29833333 0.015      0.015     ]\n",
      " [0.015      0.015      0.015      0.015      0.015      0.015\n",
      "  0.015      0.015      0.865      0.015     ]]\n"
     ]
    }
   ],
   "source": [
    "G = np.zeros((N,N))\n",
    "alpha = 0.85\n",
    "for i in range(0,N):\n",
    "    for j in range(0,N):\n",
    "        G[i,j] = alpha*P[i,j] + (1-alpha)/N\n",
    "print(G)"
   ]
  },
  {
   "cell_type": "markdown",
   "metadata": {},
   "source": [
    "Finalmente, calculamos o PageRank."
   ]
  },
  {
   "cell_type": "code",
   "execution_count": 27,
   "metadata": {},
   "outputs": [
    {
     "name": "stdout",
     "output_type": "stream",
     "text": [
      "1 : 0.014999999999999994\n",
      "2 : 0.06600000000000009\n",
      "3 : 0.015000000000000008\n",
      "4 : 0.015000000000000008\n",
      "5 : 0.014999999999999989\n",
      "6 : 0.2626353316271941\n",
      "7 : 0.14196504412280775\n",
      "8 : 0.09962459236688254\n",
      "9 : 0.2986750318831152\n",
      "10 : 0.07110000000000025\n"
     ]
    }
   ],
   "source": [
    "eigvals, eigvecs = np.linalg.eig(G.T)\n",
    "eigvec1 = eigvecs[:,np.isclose(eigvals, 1)]\n",
    "eigvec1 = eigvec1[:,0]\n",
    "\n",
    "stationary = eigvec1 / eigvec1.sum()\n",
    "\n",
    "stationary = stationary.real\n",
    "for i in range(0,N):\n",
    "    print(i+1, ':', stationary[i])"
   ]
  },
  {
   "cell_type": "code",
   "execution_count": 28,
   "metadata": {},
   "outputs": [
    {
     "data": {
      "image/png": "[encoded data removed]",
      "text/plain": [
       "<Figure size 432x288 with 1 Axes>"
      ]
     },
     "metadata": {},
     "output_type": "display_data"
    }
   ],
   "source": [
    "npos=nx.circular_layout(g,scale=1)\n",
    "\n",
    "s = stationary*10000\n",
    "nx.draw(g,pos = npos, with_labels=True, node_size = s, arrows=True)\n",
    "plt.draw()"
   ]
  },
  {
   "cell_type": "markdown",
   "metadata": {},
   "source": [
    "Notem que os vértices que recebem mais conexões nem sempre apresentam alto PageRank."
   ]
  },
  {
   "cell_type": "code",
   "execution_count": null,
   "metadata": {},
   "outputs": [],
   "source": []
  }
 ],
 "metadata": {
  "kernelspec": {
   "display_name": "Python 3",
   "language": "python",
   "name": "python3"
  },
  "language_info": {
   "codemirror_mode": {
    "name": "ipython",
    "version": 3
   },
   "file_extension": ".py",
   "mimetype": "text/x-python",
   "name": "python",
   "nbconvert_exporter": "python",
   "pygments_lexer": "ipython3",
   "version": "3.12.7"
  }
 },
 "nbformat": 4,
 "nbformat_minor": 2
}
